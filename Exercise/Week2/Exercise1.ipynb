{
 "cells": [
  {
   "cell_type": "markdown",
   "id": "6d00b818",
   "metadata": {},
   "source": [
    "# Data frame creation and manipulation"
   ]
  },
  {
   "cell_type": "code",
   "execution_count": 30,
   "id": "7c1895f0",
   "metadata": {},
   "outputs": [
    {
     "name": "stdout",
     "output_type": "stream",
     "text": [
      "   Roll Number    Name Gender  Marks1  Marks2  Marks3\n",
      "0            1  Vikith      F      78      82      88\n",
      "1            2   Aarav      M      85      39      77\n",
      "2            3  Chirag      M      67      74      69\n",
      "3            4   Deepa      M      90      65      94\n",
      "4            5   Vaani      F      56      47      58\n",
      "5            6  Shahid      M      45      50      46\n",
      "6            7   Gauri      F      72      40      73\n",
      "7            8   Harsh      F      88      38      80\n",
      "8            9   Kiran      M      95      91      85\n",
      "9           10   Jatin      F      60      55      62\n"
     ]
    }
   ],
   "source": [
    "import pandas as pd\n",
    "\n",
    "data = {\n",
    "    'Roll Number': [1, 2, 3, 4, 5, 6, 7, 8, 9, 10],\n",
    "    'Name': ['Vikith', 'Aarav', 'Chirag', 'Deepa', 'Vaani', 'Shahid', 'Gauri', 'Harsh', 'Kiran', 'Jatin'],\n",
    "    'Gender': ['F', 'M', 'M', 'M', 'F', 'M', 'F', 'F', 'M', 'F'],\n",
    "    'Marks1': [78, 85, 67, 90, 56, 45, 72, 88, 95, 60],\n",
    "    'Marks2': [82, 39, 74, 65, 47, 50, 40, 38, 91, 55],\n",
    "    'Marks3': [88, 77, 69, 94, 58, 46, 73, 80, 85, 62]\n",
    "}\n",
    "\n",
    "df = pd.DataFrame(data)\n",
    "print(df)"
   ]
  },
  {
   "cell_type": "code",
   "execution_count": 2,
   "id": "7c445595",
   "metadata": {},
   "outputs": [
    {
     "name": "stdout",
     "output_type": "stream",
     "text": [
      "   Roll Number    Name Gender  Marks1  Marks2  Marks3  Total Marks\n",
      "0            1   Aarav      F      78      82      88          248\n",
      "1            2  Vikith      M      85      39      77          201\n",
      "2            3  Chirag      M      67      74      69          210\n",
      "3            4   Deepa      M      90      65      94          249\n",
      "4            5   Vaani      F      56      47      58          161\n",
      "5            6  Shahid      M      45      50      46          141\n",
      "6            7   Gauri      F      72      40      73          185\n",
      "7            8   Harsh      F      88      38      80          206\n",
      "8            9   Kiran      M      95      91      85          271\n",
      "9           10   Jatin      F      60      55      62          177\n"
     ]
    }
   ],
   "source": [
    "df['Total Marks'] = df['Marks1'] + df['Marks2'] + df['Marks3']\n",
    "print(df)"
   ]
  },
  {
   "cell_type": "code",
   "execution_count": 32,
   "id": "9a0e2fa6",
   "metadata": {},
   "outputs": [
    {
     "name": "stdout",
     "output_type": "stream",
     "text": [
      "45\n"
     ]
    }
   ],
   "source": [
    "lowestM1 = df['Marks1'].min()\n",
    "print(lowestM1)"
   ]
  },
  {
   "cell_type": "code",
   "execution_count": 33,
   "id": "6fc3f06f",
   "metadata": {},
   "outputs": [
    {
     "name": "stdout",
     "output_type": "stream",
     "text": [
      "91\n"
     ]
    }
   ],
   "source": [
    "highestM2 = df['Marks2'].max()\n",
    "print(highestM2)"
   ]
  },
  {
   "cell_type": "code",
   "execution_count": 34,
   "id": "d9106432",
   "metadata": {},
   "outputs": [
    {
     "name": "stdout",
     "output_type": "stream",
     "text": [
      "73.2\n"
     ]
    }
   ],
   "source": [
    "avg = df['Marks3'].mean()\n",
    "print(avg)"
   ]
  },
  {
   "cell_type": "code",
   "execution_count": 35,
   "id": "e48d4a19",
   "metadata": {},
   "outputs": [
    {
     "name": "stdout",
     "output_type": "stream",
     "text": [
      "Kiran\n"
     ]
    }
   ],
   "source": [
    "df['Average Marks'] = df[['Marks1','Marks2','Marks3']].mean(axis=1)\n",
    "stavg = df.loc[df['Average Marks'].idxmax(), 'Name']\n",
    "print(stavg)\n",
    "\n"
   ]
  },
  {
   "cell_type": "code",
   "execution_count": 36,
   "id": "31a39f1a",
   "metadata": {},
   "outputs": [
    {
     "name": "stdout",
     "output_type": "stream",
     "text": [
      "2\n"
     ]
    }
   ],
   "source": [
    "failedm2 = df[df['Marks2'] < 40].shape[0]\n",
    "print(failedm2)"
   ]
  },
  {
   "cell_type": "code",
   "execution_count": 37,
   "id": "4d130b2a",
   "metadata": {},
   "outputs": [
    {
     "name": "stdout",
     "output_type": "stream",
     "text": [
      "['Aarav', 'Harsh']\n"
     ]
    }
   ],
   "source": [
    "#extra\n",
    "names = df[df['Marks2'] < 40]['Name']\n",
    "print(names.tolist())"
   ]
  },
  {
   "cell_type": "code",
   "execution_count": null,
   "id": "aa885087",
   "metadata": {},
   "outputs": [],
   "source": []
  }
 ],
 "metadata": {
  "kernelspec": {
   "display_name": "Python 3 (ipykernel)",
   "language": "python",
   "name": "python3"
  },
  "language_info": {
   "codemirror_mode": {
    "name": "ipython",
    "version": 3
   },
   "file_extension": ".py",
   "mimetype": "text/x-python",
   "name": "python",
   "nbconvert_exporter": "python",
   "pygments_lexer": "ipython3",
   "version": "3.9.12"
  }
 },
 "nbformat": 4,
 "nbformat_minor": 5
}
