{
 "cells": [
  {
   "cell_type": "markdown",
   "id": "4bec1de0",
   "metadata": {},
   "source": [
    "# 240970107\n",
    "Vikith B Kotian"
   ]
  },
  {
   "cell_type": "code",
   "execution_count": 10,
   "id": "17ad2da4",
   "metadata": {},
   "outputs": [],
   "source": [
    "import pandas as pd\n",
    "import numpy as np\n",
    "\n",
    "# Load the Excel file\n",
    "df = pd.read_excel(\"Cereals1.xls\")"
   ]
  },
  {
   "cell_type": "code",
   "execution_count": 11,
   "id": "2cbff243",
   "metadata": {},
   "outputs": [
    {
     "name": "stdout",
     "output_type": "stream",
     "text": [
      "     calories  protein  fat  sodium  fiber  carbo  sugars  potass  vitamins  \\\n",
      "min      50.0      1.0  0.0     0.0   0.00   -1.0    -1.0    -1.0       0.0   \n",
      "25%     100.0      2.0  0.0   132.5   0.75   12.0     3.0    40.0      25.0   \n",
      "50%     110.0      2.5  1.0   180.0   1.75   14.5     7.0    90.0      25.0   \n",
      "75%     110.0      3.0  2.0   212.5   3.00   17.0    11.0   120.0      25.0   \n",
      "max     160.0      6.0  5.0   320.0  14.00   23.0    15.0   330.0     100.0   \n",
      "\n",
      "     shelf  weight  cups     rating  \n",
      "min    1.0     0.5  0.25  18.042851  \n",
      "25%    1.0     1.0  0.67  32.932466  \n",
      "50%    2.0     1.0  0.75  40.253086  \n",
      "75%    3.0     1.0  1.00  50.780847  \n",
      "max    3.0     1.5  1.50  93.704912  \n"
     ]
    }
   ],
   "source": [
    "#1) Create a table with the 5-number summary of all the numeric attributes.\n",
    "numcols = df.select_dtypes(include='number').columns\n",
    "summary = df[numcols].describe()\n",
    "\n",
    "print(summary.loc[['min', '25%', '50%', '75%', 'max']])"
   ]
  },
  {
   "cell_type": "code",
   "execution_count": 12,
   "id": "a9ba8b08",
   "metadata": {},
   "outputs": [
    {
     "name": "stdout",
     "output_type": "stream",
     "text": [
      "                         name mfr type  calories  protein  fat  sodium  fiber  \\\n",
      "0           100%_Natural_Bran   Q    C       120        3    5      15    2.0   \n",
      "1                    All-Bran   K    C        70        4    1     260    9.0   \n",
      "2   All-Bran_with_Extra_Fiber   K    C        50        4    0     140   14.0   \n",
      "3              Almond_Delight   R    C       110        2    2     200    1.0   \n",
      "4     Apple_Cinnamon_Cheerios   G    C       110        2    2     180    1.5   \n",
      "..                        ...  ..  ...       ...      ...  ...     ...    ...   \n",
      "71                    Triples   G    C       110        2    1     250    0.0   \n",
      "72                       Trix   G    C       110        1    1     140    0.0   \n",
      "73                 Wheat_Chex   R    C       100        3    1     230    3.0   \n",
      "74                   Wheaties   G    C       100        3    1     200    3.0   \n",
      "75        Wheaties_Honey_Gold   G    C       110        2    1     200    1.0   \n",
      "\n",
      "    carbo  sugars      potass  vitamins  shelf  weight  cups     rating  \n",
      "0     8.0     8.0  135.000000         0      3     1.0  1.00  33.983679  \n",
      "1     7.0     5.0  320.000000        25      3     1.0  0.33  59.425505  \n",
      "2     8.0     0.0  330.000000        25      3     1.0  0.50  93.704912  \n",
      "3    14.0     8.0   96.216216        25      3     1.0  0.75  34.384843  \n",
      "4    10.5    10.0   70.000000        25      1     1.0  0.75  29.509541  \n",
      "..    ...     ...         ...       ...    ...     ...   ...        ...  \n",
      "71   21.0     3.0   60.000000        25      3     1.0  0.75  39.106174  \n",
      "72   13.0    12.0   25.000000        25      2     1.0  1.00  27.753301  \n",
      "73   17.0     3.0  115.000000        25      1     1.0  0.67  49.787445  \n",
      "74   17.0     3.0  110.000000        25      1     1.0  1.00  51.592193  \n",
      "75   16.0     8.0   60.000000        25      1     1.0  0.75  36.187559  \n",
      "\n",
      "[76 rows x 16 columns]\n"
     ]
    }
   ],
   "source": [
    "#2. For each of the numeric attributes (proteins up to vitamins), identify and replace all missing data (indicated with -1) with the arithmetic mean of the attribute. \n",
    "numeric_cols = df.loc[:, 'protein':'vitamins'].columns\n",
    "df[numeric_cols] = df[numeric_cols].replace(-1, np.nan)\n",
    "\n",
    "means = df[numeric_cols].mean()\n",
    "\n",
    "df[numeric_cols] = df[numeric_cols].fillna(means)\n",
    "print(df)"
   ]
  },
  {
   "cell_type": "code",
   "execution_count": 13,
   "id": "9c6a65b5",
   "metadata": {},
   "outputs": [
    {
     "name": "stdout",
     "output_type": "stream",
     "text": [
      "     calories  protein  fat  sodium  fiber      carbo  sugars  potass  \\\n",
      "min      50.0      1.0  0.0     0.0   0.00   7.000000     0.0   15.00   \n",
      "25%     100.0      2.0  0.0   132.5   0.75  12.000000     3.0   43.75   \n",
      "50%     110.0      2.5  1.0   180.0   1.75  14.966667     7.0   90.00   \n",
      "75%     110.0      3.0  2.0   212.5   3.00  17.000000    11.0  120.00   \n",
      "max     160.0      6.0  5.0   320.0  14.00  23.000000    15.0  330.00   \n",
      "\n",
      "     vitamins  shelf  weight  cups     rating  \n",
      "min       0.0    1.0     0.5  0.25  18.042851  \n",
      "25%      25.0    1.0     1.0  0.67  32.932466  \n",
      "50%      25.0    2.0     1.0  0.75  40.253086  \n",
      "75%      25.0    3.0     1.0  1.00  50.780847  \n",
      "max     100.0    3.0     1.5  1.50  93.704912  \n"
     ]
    }
   ],
   "source": [
    "#3) Create a table with the 5-number summary of all the numeric attributes after treating missing values.  Do you think the strategy used in dealing with missing values was effective? \n",
    "res=df.describe().loc[['min','25%','50%','75%','max']]\n",
    "print(res)"
   ]
  },
  {
   "cell_type": "code",
   "execution_count": 14,
   "id": "6a8f59c1",
   "metadata": {},
   "outputs": [
    {
     "name": "stdout",
     "output_type": "stream",
     "text": [
      "                         name mfr type  calories  protein  fat  sodium  fiber  \\\n",
      "0           100%_Natural_Bran   Q    C       120        3    5      15    2.0   \n",
      "1                    All-Bran   K    C        70        4    1     260    2.0   \n",
      "2   All-Bran_with_Extra_Fiber   K    C        50        4    0     140    2.0   \n",
      "3              Almond_Delight   R    C       110        2    2     200    1.0   \n",
      "4     Apple_Cinnamon_Cheerios   G    C       110        2    2     180    1.5   \n",
      "..                        ...  ..  ...       ...      ...  ...     ...    ...   \n",
      "71                    Triples   G    C       110        2    1     250    0.0   \n",
      "72                       Trix   G    C       110        1    1     140    0.0   \n",
      "73                 Wheat_Chex   R    C       100        3    1     230    3.0   \n",
      "74                   Wheaties   G    C       100        3    1     200    3.0   \n",
      "75        Wheaties_Honey_Gold   G    C       110        2    1     200    1.0   \n",
      "\n",
      "    carbo  sugars      potass  vitamins  shelf  weight  cups     rating  \n",
      "0     8.0     8.0  135.000000        25      3     1.0  1.00  33.983679  \n",
      "1     7.0     5.0   90.000000        25      3     1.0  0.33  59.425505  \n",
      "2     8.0     0.0   90.000000        25      3     1.0  0.50  93.704912  \n",
      "3    14.0     8.0   96.216216        25      3     1.0  0.75  34.384843  \n",
      "4    10.5    10.0   70.000000        25      1     1.0  0.75  29.509541  \n",
      "..    ...     ...         ...       ...    ...     ...   ...        ...  \n",
      "71   21.0     3.0   60.000000        25      3     1.0  0.75  39.106174  \n",
      "72   13.0    12.0   25.000000        25      2     1.0  1.00  27.753301  \n",
      "73   17.0     3.0  115.000000        25      1     1.0  0.67  49.787445  \n",
      "74   17.0     3.0  110.000000        25      1     1.0  1.00  51.592193  \n",
      "75   16.0     8.0   60.000000        25      1     1.0  0.75  36.187559  \n",
      "\n",
      "[76 rows x 16 columns]\n"
     ]
    }
   ],
   "source": [
    "#4) For each of the numeric attributes (proteins up to vitamins), identify and replace all noisy data with the median of attribute.\n",
    "for col in numeric_cols:\n",
    "    Q1 = df[col].quantile(0.25)\n",
    "    Q3 = df[col].quantile(0.75)\n",
    "    IQR = Q3 - Q1\n",
    "    \n",
    "    lower_bound = Q1 - 1.5 * IQR\n",
    "    upper_bound = Q3 + 1.5 * IQR\n",
    "    \n",
    "    median = df[col].median()\n",
    "    median_int = int(round(median))\n",
    "    \n",
    "    df.loc[(df[col] < lower_bound) | (df[col] > upper_bound), col] = median_int\n",
    "print(df)"
   ]
  },
  {
   "cell_type": "code",
   "execution_count": 15,
   "id": "f459b978",
   "metadata": {
    "scrolled": true
   },
   "outputs": [
    {
     "name": "stdout",
     "output_type": "stream",
     "text": [
      "     calories  protein  fat  sodium  fiber      carbo  sugars  potass  \\\n",
      "min      50.0      1.0  0.0    15.0   0.00   7.000000     0.0   15.00   \n",
      "25%     100.0      2.0  0.0   147.5   0.75  12.000000     3.0   43.75   \n",
      "50%     110.0      2.0  1.0   180.0   1.75  14.966667     7.0   90.00   \n",
      "75%     110.0      3.0  2.0   212.5   3.00  17.000000    11.0  110.00   \n",
      "max     160.0      4.0  5.0   320.0   6.00  23.000000    15.0  230.00   \n",
      "\n",
      "     vitamins  shelf  weight  cups     rating  \n",
      "min      25.0    1.0     0.5  0.25  18.042851  \n",
      "25%      25.0    1.0     1.0  0.67  32.932466  \n",
      "50%      25.0    2.0     1.0  0.75  40.253086  \n",
      "75%      25.0    3.0     1.0  1.00  50.780847  \n",
      "max      25.0    3.0     1.5  1.50  93.704912  \n"
     ]
    }
   ],
   "source": [
    "#5) Create a table with the 5-number summary of all the numeric attributes after treating noisy values.  Do you think the strategy used in dealing with noisy values was effective? \n",
    "res=df.describe().loc[['min','25%','50%','75%','max']]\n",
    "print(res)"
   ]
  }
 ],
 "metadata": {
  "kernelspec": {
   "display_name": "Python 3 (ipykernel)",
   "language": "python",
   "name": "python3"
  },
  "language_info": {
   "codemirror_mode": {
    "name": "ipython",
    "version": 3
   },
   "file_extension": ".py",
   "mimetype": "text/x-python",
   "name": "python",
   "nbconvert_exporter": "python",
   "pygments_lexer": "ipython3",
   "version": "3.9.12"
  }
 },
 "nbformat": 4,
 "nbformat_minor": 5
}
