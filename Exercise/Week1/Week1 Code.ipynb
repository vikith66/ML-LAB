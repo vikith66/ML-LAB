{
 "cells": [
  {
   "cell_type": "markdown",
   "id": "252d9ad5",
   "metadata": {},
   "source": [
    "# 240970107\n",
    "Vikith B Kotian"
   ]
  },
  {
   "cell_type": "code",
   "execution_count": 1,
   "id": "a88c91fe",
   "metadata": {},
   "outputs": [],
   "source": [
    "# 1. Average of 10 numbers using while loop"
   ]
  },
  {
   "cell_type": "code",
   "execution_count": 2,
   "id": "6a4af724",
   "metadata": {},
   "outputs": [
    {
     "name": "stdout",
     "output_type": "stream",
     "text": [
      "Enter The 10 Numbers : \n",
      "\n",
      "~5\n",
      "~2\n",
      "~3\n",
      "~4\n",
      "~8\n",
      "~9\n",
      "~6\n",
      "~3\n",
      "~2\n",
      "~2\n",
      "Average :  4.4\n"
     ]
    }
   ],
   "source": [
    "print(\"Enter The 10 Numbers : \\n\")\n",
    "i = 1\n",
    "total = 0\n",
    "num = 0\n",
    "\n",
    "while(i <= 10):\n",
    "    num = int(input(\"~\"))\n",
    "    total = total + num\n",
    "    i = i + 1\n",
    "print(\"Average : \" , total / 10)"
   ]
  },
  {
   "cell_type": "code",
   "execution_count": null,
   "id": "25d055c5",
   "metadata": {},
   "outputs": [],
   "source": [
    "# 2. geometric mean of n numbers"
   ]
  },
  {
   "cell_type": "code",
   "execution_count": 9,
   "id": "73ee126c",
   "metadata": {},
   "outputs": [
    {
     "name": "stdout",
     "output_type": "stream",
     "text": [
      "Enter The Number Of Elements To Input : 5\n",
      "Enter The Number : 14\n",
      "Enter The Number : 56\n",
      "Enter The Number : 33\n",
      "Enter The Number : 23\n",
      "Enter The Number : 21\n",
      "Geometric Mean :  26.263670832582545\n"
     ]
    }
   ],
   "source": [
    "n = int(input(\"Enter The Number Of Elements To Input : \"))\n",
    "numbers = []\n",
    "for i in range(n):\n",
    "    num = int(input(\"Enter The Number : \"))\n",
    "    numbers.append(num)\n",
    "product = 1\n",
    "for e in numbers:\n",
    "    product *= e\n",
    "geo = product**(1/n)\n",
    "print(\"Geometric Mean : \", geo )"
   ]
  },
  {
   "cell_type": "code",
   "execution_count": null,
   "id": "cd64f8ad",
   "metadata": {},
   "outputs": [],
   "source": [
    "# 3.Check Whether the given integer is a prime number or not"
   ]
  },
  {
   "cell_type": "code",
   "execution_count": 2,
   "id": "581690d0",
   "metadata": {},
   "outputs": [
    {
     "name": "stdout",
     "output_type": "stream",
     "text": [
      "Enter Any Number :25\n",
      "Not A Prime Number\n"
     ]
    }
   ],
   "source": [
    "num = int(input(\"Enter Any Number :\"))\n",
    "isprime = True\n",
    "if num < 2 :\n",
    "    print(\"Not A Prime Number\")\n",
    "for i in range(2,(num//2) + 1):\n",
    "    if(num % i == 0):\n",
    "        isprime = False\n",
    "if isprime:\n",
    "    print(\"Given Number \", num,\" Is a prime Number\")\n",
    "else :\n",
    "    print(\"Not A Prime Number\")"
   ]
  },
  {
   "cell_type": "code",
   "execution_count": null,
   "id": "5a70cffc",
   "metadata": {},
   "outputs": [],
   "source": [
    "# 4.Linear Search And Binary Search"
   ]
  },
  {
   "cell_type": "code",
   "execution_count": 34,
   "id": "ae14a320",
   "metadata": {},
   "outputs": [
    {
     "name": "stdout",
     "output_type": "stream",
     "text": [
      "Enter The Element To Search : 10\n",
      "Linear Search Element Is Present At Position : 4\n",
      "Sorted List  [10, 12, 13, 14, 15, 18, 20, 22, 25, 35, 44, 63]\n",
      "Element Is Present At Position : 1\n"
     ]
    }
   ],
   "source": [
    "num = [25 , 20 , 35 , 10 , 22 , 12 , 15 , 14 , 13 , 44 , 18 , 63]\n",
    "lin = int(input(\"Enter The Element To Search : \"))\n",
    "\n",
    "def linear(num,lin):\n",
    "    i = 0\n",
    "    for n in num :\n",
    "        i = i + 1\n",
    "        if(n == lin):\n",
    "            return i\n",
    "    return -1\n",
    "linpos = linear(num , lin)\n",
    "if linpos < 0 :\n",
    "    print(\"Linear Search Element Is Not Present\")\n",
    "else :\n",
    "    print(\"Linear Search Element Is Present At Position :\" , linpos)\n",
    "    \n",
    "    \n",
    "def binary_search(arr, target):\n",
    "    left = 0\n",
    "    right = len(arr) - 1\n",
    "\n",
    "    while left <= right:\n",
    "        mid = (left + right) // 2\n",
    "\n",
    "        if arr[mid] == target:\n",
    "            return mid + 1  \n",
    "        elif arr[mid] < target:\n",
    "            left = mid + 1\n",
    "        else:\n",
    "            right = mid - 1\n",
    "\n",
    "    return -1\n",
    "\n",
    "\n",
    "num = sorted(num)\n",
    "print(\"Sorted List \", num)\n",
    "binpos = binary_search(num, lin)\n",
    "if binpos < 0 :\n",
    "    print(\"Element Is Not Present\")\n",
    "else :\n",
    "    print(\"Element Is Present At Position :\" , binpos)"
   ]
  },
  {
   "cell_type": "code",
   "execution_count": null,
   "id": "2d371834",
   "metadata": {},
   "outputs": [],
   "source": [
    "# 5.Using math package, Area of a triangle whose sides are given"
   ]
  },
  {
   "cell_type": "code",
   "execution_count": 38,
   "id": "96d186fa",
   "metadata": {},
   "outputs": [
    {
     "name": "stdout",
     "output_type": "stream",
     "text": [
      "Enter length of side a: 10\n",
      "Enter length of side b: 20\n",
      "Enter length of side c: 10\n",
      "The area of the triangle is:  0.0\n"
     ]
    }
   ],
   "source": [
    "import math\n",
    "\n",
    "a = float(input(\"Enter length of side a: \"))\n",
    "b = float(input(\"Enter length of side b: \"))\n",
    "c = float(input(\"Enter length of side c: \"))\n",
    "\n",
    "s = (a + b + c) / 2\n",
    "\n",
    "area = math.sqrt(s * (s - a) * (s - b) * (s - c))\n",
    "\n",
    "print(\"The area of the triangle is: \", area)\n"
   ]
  }
 ],
 "metadata": {
  "kernelspec": {
   "display_name": "Python 3 (ipykernel)",
   "language": "python",
   "name": "python3"
  },
  "language_info": {
   "codemirror_mode": {
    "name": "ipython",
    "version": 3
   },
   "file_extension": ".py",
   "mimetype": "text/x-python",
   "name": "python",
   "nbconvert_exporter": "python",
   "pygments_lexer": "ipython3",
   "version": "3.9.12"
  }
 },
 "nbformat": 4,
 "nbformat_minor": 5
}
