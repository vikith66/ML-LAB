{
 "cells": [
  {
   "cell_type": "markdown",
   "id": "a6c3517d",
   "metadata": {},
   "source": [
    "# 240970107\n",
    "Vikith B Kotian\n"
   ]
  },
  {
   "cell_type": "code",
   "execution_count": null,
   "id": "26ff4cd3",
   "metadata": {},
   "outputs": [],
   "source": [
    "# EXERCISE 1:\n",
    "# Data Analysis using mtcars"
   ]
  },
  {
   "cell_type": "code",
   "execution_count": 5,
   "id": "2d0de967",
   "metadata": {},
   "outputs": [],
   "source": [
    "import pandas as pd\n",
    "import numpy as np\n",
    "\n",
    "import matplotlib.pyplot as plt\n",
    "import seaborn as sns\n",
    "\n",
    "df = pd.read_csv(\"./Materials/mtcars.csv\") "
   ]
  },
  {
   "cell_type": "code",
   "execution_count": 6,
   "id": "cb5c3313",
   "metadata": {},
   "outputs": [
    {
     "name": "stdout",
     "output_type": "stream",
     "text": [
      "             model   mpg  cyl  disp  hp  drat     wt  qsec  vs  am  gear  carb\n",
      "19  Toyota Corolla  33.9    4  71.1  65  4.22  1.835  19.9   1   1     4     1\n"
     ]
    }
   ],
   "source": [
    "#1. Find the car with the best mpg\n",
    "best_mpg = df[df['mpg'] == df['mpg'].max()]\n",
    "print(best_mpg)"
   ]
  },
  {
   "cell_type": "code",
   "execution_count": 7,
   "id": "ae7b7fcc",
   "metadata": {},
   "outputs": [
    {
     "name": "stdout",
     "output_type": "stream",
     "text": [
      "                  model   mpg  cyl   disp   hp  drat     wt   qsec  vs  am  \\\n",
      "14   Cadillac Fleetwood  10.4    8  472.0  205  2.93  5.250  17.98   0   0   \n",
      "15  Lincoln Continental  10.4    8  460.0  215  3.00  5.424  17.82   0   0   \n",
      "\n",
      "    gear  carb  \n",
      "14     3     4  \n",
      "15     3     4  \n"
     ]
    }
   ],
   "source": [
    "#2. Find the car with the worst mpg\n",
    "worst_mpg = df[df['mpg'] == df['mpg'].min()]\n",
    "print(worst_mpg)"
   ]
  },
  {
   "cell_type": "code",
   "execution_count": 8,
   "id": "77ccb9d2",
   "metadata": {},
   "outputs": [
    {
     "name": "stdout",
     "output_type": "stream",
     "text": [
      "            model   mpg  cyl   disp   hp  drat    wt  qsec  vs  am  gear  carb\n",
      "30  Maserati Bora  15.0    8  301.0  335  3.54  3.57  14.6   0   1     5     8\n"
     ]
    }
   ],
   "source": [
    "#3. Find the car with the best horsepower \n",
    "best_hp = df[df['hp'] == df['hp'].max()]\n",
    "print(best_hp)"
   ]
  },
  {
   "cell_type": "code",
   "execution_count": 9,
   "id": "f30de92b",
   "metadata": {},
   "outputs": [
    {
     "data": {
      "text/plain": [
       "min     71.100\n",
       "25%    120.825\n",
       "50%    196.300\n",
       "75%    326.000\n",
       "max    472.000\n",
       "Name: disp, dtype: float64"
      ]
     },
     "execution_count": 9,
     "metadata": {},
     "output_type": "execute_result"
    }
   ],
   "source": [
    "#4. Find 5 number summary of displacement\n",
    "df['disp'].describe()[['min', '25%', '50%', '75%', 'max']]"
   ]
  },
  {
   "cell_type": "code",
   "execution_count": 10,
   "id": "17198bc6",
   "metadata": {},
   "outputs": [
    {
     "name": "stdout",
     "output_type": "stream",
     "text": [
      "Median:  123.0\n"
     ]
    }
   ],
   "source": [
    "#5. Find median horse power\n",
    "print(\"Median: \",df['hp'].median())"
   ]
  },
  {
   "cell_type": "code",
   "execution_count": 11,
   "id": "6f4dc145",
   "metadata": {},
   "outputs": [
    {
     "data": {
      "text/plain": [
       "am\n",
       "Automatic    17.147368\n",
       "Manual       24.392308\n",
       "Name: mpg, dtype: float64"
      ]
     },
     "execution_count": 11,
     "metadata": {},
     "output_type": "execute_result"
    }
   ],
   "source": [
    "#6. What is average mpg for manual vs. automatic cars \n",
    "df['am'] = df['am'].map({0: 'Automatic', 1: 'Manual'})\n",
    "df.groupby('am')['mpg'].mean()"
   ]
  },
  {
   "cell_type": "code",
   "execution_count": 12,
   "id": "19333823",
   "metadata": {},
   "outputs": [
    {
     "data": {
      "image/png": "[encoded data removed]",
      "text/plain": [
       "<Figure size 432x288 with 1 Axes>"
      ]
     },
     "metadata": {
      "needs_background": "light"
     },
     "output_type": "display_data"
    }
   ],
   "source": [
    "#7. Draw a histogram of miles per gallon \n",
    "plt.hist(df['mpg'], bins=10, color='grey', edgecolor='black')\n",
    "plt.title('Histogram of MPG')\n",
    "plt.xlabel('MPG')\n",
    "plt.ylabel('Frequency')\n",
    "plt.show()"
   ]
  },
  {
   "cell_type": "code",
   "execution_count": 13,
   "id": "d77ccbb2",
   "metadata": {},
   "outputs": [
    {
     "data": {
      "image/png": "[encoded data removed]",
      "text/plain": [
       "<Figure size 432x288 with 1 Axes>"
      ]
     },
     "metadata": {
      "needs_background": "light"
     },
     "output_type": "display_data"
    }
   ],
   "source": [
    "#8. Boxplot of mpg for each cylinder type \n",
    "sns.boxplot(x='cyl', y='mpg', data=df)\n",
    "plt.title('MPG by Cylinder Count')\n",
    "plt.xlabel('Cylinders')\n",
    "plt.ylabel('MPG')\n",
    "plt.show()"
   ]
  },
  {
   "cell_type": "code",
   "execution_count": 14,
   "id": "16ea8ffa",
   "metadata": {},
   "outputs": [
    {
     "data": {
      "text/html": [
       "<div>\n",
       "<style scoped>\n",
       "    .dataframe tbody tr th:only-of-type {\n",
       "        vertical-align: middle;\n",
       "    }\n",
       "\n",
       "    .dataframe tbody tr th {\n",
       "        vertical-align: top;\n",
       "    }\n",
       "\n",
       "    .dataframe thead th {\n",
       "        text-align: right;\n",
       "    }\n",
       "</style>\n",
       "<table border=\"1\" class=\"dataframe\">\n",
       "  <thead>\n",
       "    <tr style=\"text-align: right;\">\n",
       "      <th>col_0</th>\n",
       "      <th>count</th>\n",
       "    </tr>\n",
       "    <tr>\n",
       "      <th>am</th>\n",
       "      <th></th>\n",
       "    </tr>\n",
       "  </thead>\n",
       "  <tbody>\n",
       "    <tr>\n",
       "      <th>Automatic</th>\n",
       "      <td>19</td>\n",
       "    </tr>\n",
       "    <tr>\n",
       "      <th>Manual</th>\n",
       "      <td>13</td>\n",
       "    </tr>\n",
       "  </tbody>\n",
       "</table>\n",
       "</div>"
      ],
      "text/plain": [
       "col_0      count\n",
       "am              \n",
       "Automatic     19\n",
       "Manual        13"
      ]
     },
     "execution_count": 14,
     "metadata": {},
     "output_type": "execute_result"
    }
   ],
   "source": [
    "#9. Create a crosstab displaying count of automatic vs. manual cars\n",
    "pd.crosstab(df['am'], columns='count')"
   ]
  },
  {
   "cell_type": "code",
   "execution_count": 15,
   "id": "eb1c9b1d",
   "metadata": {},
   "outputs": [
    {
     "data": {
      "text/html": [
       "<div>\n",
       "<style scoped>\n",
       "    .dataframe tbody tr th:only-of-type {\n",
       "        vertical-align: middle;\n",
       "    }\n",
       "\n",
       "    .dataframe tbody tr th {\n",
       "        vertical-align: top;\n",
       "    }\n",
       "\n",
       "    .dataframe thead th {\n",
       "        text-align: right;\n",
       "    }\n",
       "</style>\n",
       "<table border=\"1\" class=\"dataframe\">\n",
       "  <thead>\n",
       "    <tr style=\"text-align: right;\">\n",
       "      <th>cyl</th>\n",
       "      <th>4</th>\n",
       "      <th>6</th>\n",
       "      <th>8</th>\n",
       "    </tr>\n",
       "    <tr>\n",
       "      <th>am</th>\n",
       "      <th></th>\n",
       "      <th></th>\n",
       "      <th></th>\n",
       "    </tr>\n",
       "  </thead>\n",
       "  <tbody>\n",
       "    <tr>\n",
       "      <th>Automatic</th>\n",
       "      <td>3</td>\n",
       "      <td>4</td>\n",
       "      <td>12</td>\n",
       "    </tr>\n",
       "    <tr>\n",
       "      <th>Manual</th>\n",
       "      <td>8</td>\n",
       "      <td>3</td>\n",
       "      <td>2</td>\n",
       "    </tr>\n",
       "  </tbody>\n",
       "</table>\n",
       "</div>"
      ],
      "text/plain": [
       "cyl        4  6   8\n",
       "am                 \n",
       "Automatic  3  4  12\n",
       "Manual     8  3   2"
      ]
     },
     "execution_count": 15,
     "metadata": {},
     "output_type": "execute_result"
    }
   ],
   "source": [
    "#10. Create a crosstab displaying count of “am vs cyl”\n",
    "pd.crosstab(df['am'], df['cyl'])"
   ]
  },
  {
   "cell_type": "code",
   "execution_count": 16,
   "id": "55c99486",
   "metadata": {},
   "outputs": [
    {
     "name": "stdout",
     "output_type": "stream",
     "text": [
      "Correlation between weight of the car and mpg: -0.8676593765172279\n"
     ]
    }
   ],
   "source": [
    "#11. What is the correlation between the weight of the car and mpg \n",
    "correlation = df['wt'].corr(df['mpg'])\n",
    "print(\"Correlation between weight of the car and mpg:\", correlation)"
   ]
  },
  {
   "cell_type": "markdown",
   "id": "f14ab019",
   "metadata": {},
   "source": [
    "# EXERCISE 2: "
   ]
  },
  {
   "cell_type": "code",
   "execution_count": 17,
   "id": "613bab93",
   "metadata": {},
   "outputs": [],
   "source": [
    "#Descriptive Analytics and Visualization "
   ]
  },
  {
   "cell_type": "code",
   "execution_count": 7,
   "id": "093b483f",
   "metadata": {},
   "outputs": [],
   "source": [
    "import pandas as pd\n",
    "import numpy as np\n",
    "\n",
    "import matplotlib.pyplot as plt\n",
    "import seaborn as sns\n",
    "\n",
    "df = pd.read_csv('./Materials/bollywood.csv')"
   ]
  },
  {
   "cell_type": "code",
   "execution_count": 8,
   "id": "46eeeea6",
   "metadata": {},
   "outputs": [
    {
     "name": "stdout",
     "output_type": "stream",
     "text": [
      "Number of records:  149\n"
     ]
    }
   ],
   "source": [
    "#1. How many records are present in the dataset?  \n",
    "print(\"Number of records: \",df.shape[0])"
   ]
  },
  {
   "cell_type": "code",
   "execution_count": 9,
   "id": "aee583de",
   "metadata": {},
   "outputs": [
    {
     "data": {
      "text/plain": [
       "Genre\n",
       "Comedy       36\n",
       " Drama       35\n",
       "Thriller     26\n",
       "Romance      25\n",
       "Action       21\n",
       "Thriller      3\n",
       "Action        3\n",
       "Name: count, dtype: int64"
      ]
     },
     "execution_count": 9,
     "metadata": {},
     "output_type": "execute_result"
    }
   ],
   "source": [
    "#2. How many movies got released in each genre? Sort number of releases in each genre in descending order. \n",
    "df['Genre'].value_counts()"
   ]
  },
  {
   "cell_type": "code",
   "execution_count": 10,
   "id": "92072c12",
   "metadata": {},
   "outputs": [
    {
     "data": {
      "text/plain": [
       "'Comedy'"
      ]
     },
     "execution_count": 10,
     "metadata": {},
     "output_type": "execute_result"
    }
   ],
   "source": [
    "#3. Which genre had highest number of releases?  \n",
    "df['Genre'].value_counts().idxmax()"
   ]
  },
  {
   "cell_type": "code",
   "execution_count": 11,
   "id": "4ac56762",
   "metadata": {},
   "outputs": [
    {
     "data": {
      "text/html": [
       "<div>\n",
       "<style scoped>\n",
       "    .dataframe tbody tr th:only-of-type {\n",
       "        vertical-align: middle;\n",
       "    }\n",
       "\n",
       "    .dataframe tbody tr th {\n",
       "        vertical-align: top;\n",
       "    }\n",
       "\n",
       "    .dataframe thead th {\n",
       "        text-align: right;\n",
       "    }\n",
       "</style>\n",
       "<table border=\"1\" class=\"dataframe\">\n",
       "  <thead>\n",
       "    <tr style=\"text-align: right;\">\n",
       "      <th>ReleaseTime</th>\n",
       "      <th>FS</th>\n",
       "      <th>HS</th>\n",
       "      <th>LW</th>\n",
       "      <th>N</th>\n",
       "    </tr>\n",
       "    <tr>\n",
       "      <th>Genre</th>\n",
       "      <th></th>\n",
       "      <th></th>\n",
       "      <th></th>\n",
       "      <th></th>\n",
       "    </tr>\n",
       "  </thead>\n",
       "  <tbody>\n",
       "    <tr>\n",
       "      <th>Drama</th>\n",
       "      <td>4</td>\n",
       "      <td>6</td>\n",
       "      <td>1</td>\n",
       "      <td>24</td>\n",
       "    </tr>\n",
       "    <tr>\n",
       "      <th>Action</th>\n",
       "      <td>3</td>\n",
       "      <td>3</td>\n",
       "      <td>3</td>\n",
       "      <td>12</td>\n",
       "    </tr>\n",
       "    <tr>\n",
       "      <th>Action</th>\n",
       "      <td>0</td>\n",
       "      <td>0</td>\n",
       "      <td>0</td>\n",
       "      <td>3</td>\n",
       "    </tr>\n",
       "    <tr>\n",
       "      <th>Comedy</th>\n",
       "      <td>3</td>\n",
       "      <td>5</td>\n",
       "      <td>5</td>\n",
       "      <td>23</td>\n",
       "    </tr>\n",
       "    <tr>\n",
       "      <th>Romance</th>\n",
       "      <td>3</td>\n",
       "      <td>3</td>\n",
       "      <td>4</td>\n",
       "      <td>15</td>\n",
       "    </tr>\n",
       "    <tr>\n",
       "      <th>Thriller</th>\n",
       "      <td>4</td>\n",
       "      <td>1</td>\n",
       "      <td>1</td>\n",
       "      <td>20</td>\n",
       "    </tr>\n",
       "    <tr>\n",
       "      <th>Thriller</th>\n",
       "      <td>0</td>\n",
       "      <td>0</td>\n",
       "      <td>1</td>\n",
       "      <td>2</td>\n",
       "    </tr>\n",
       "  </tbody>\n",
       "</table>\n",
       "</div>"
      ],
      "text/plain": [
       "ReleaseTime  FS  HS  LW   N\n",
       "Genre                      \n",
       " Drama        4   6   1  24\n",
       "Action        3   3   3  12\n",
       "Action        0   0   0   3\n",
       "Comedy        3   5   5  23\n",
       "Romance       3   3   4  15\n",
       "Thriller      4   1   1  20\n",
       "Thriller      0   0   1   2"
      ]
     },
     "execution_count": 11,
     "metadata": {},
     "output_type": "execute_result"
    }
   ],
   "source": [
    "#4. How many movies in each genre got released in different release times like long weekend, festive season, etc. (Note: Do a cross tabulation between Genre and ReleaseTime.)\n",
    "pd.crosstab(df['Genre'], df['ReleaseTime'])"
   ]
  },
  {
   "cell_type": "code",
   "execution_count": 13,
   "id": "57864846",
   "metadata": {},
   "outputs": [
    {
     "name": "stdout",
     "output_type": "stream",
     "text": [
      "Movie releases per month:\n",
      " Month\n",
      "1     20\n",
      "3     19\n",
      "5     18\n",
      "7     16\n",
      "2     16\n",
      "4     11\n",
      "9     10\n",
      "6     10\n",
      "11    10\n",
      "10     9\n",
      "8      8\n",
      "12     2\n",
      "Name: count, dtype: int64\n",
      "\n",
      "Month with maximum releases: 1 with 20 movies\n"
     ]
    }
   ],
   "source": [
    "#5. Which month of the year, maximum number movie releases are seen? (Note: Extract a new column called month from ReleaseDate column.) \n",
    "# Convert Release Date column to datetime\n",
    "df['Release Date'] = pd.to_datetime(df['Release Date'], format='%d-%b-%y')\n",
    "\n",
    "# Extract month\n",
    "df['Month'] = df['Release Date'].dt.month\n",
    "\n",
    "# Count number of releases per month\n",
    "month_counts = df['Month'].value_counts().sort_values(ascending=False)\n",
    "\n",
    "print(\"Movie releases per month:\\n\", month_counts)\n",
    "print(\"\\nMonth with maximum releases:\", month_counts.idxmax(), \"with\", month_counts.max(), \"movies\")\n"
   ]
  },
  {
   "cell_type": "code",
   "execution_count": 14,
   "id": "04037b6e",
   "metadata": {},
   "outputs": [
    {
     "data": {
      "text/plain": [
       "Month\n",
       "2     9\n",
       "1     8\n",
       "3     7\n",
       "8     7\n",
       "11    6\n",
       "7     6\n",
       "9     5\n",
       "6     5\n",
       "4     4\n",
       "10    4\n",
       "5     3\n",
       "12    2\n",
       "Name: count, dtype: int64"
      ]
     },
     "execution_count": 14,
     "metadata": {},
     "output_type": "execute_result"
    }
   ],
   "source": [
    "#6. Which month of the year typically sees most releases of high budgeted movies, that is, movies with budget of 25 crore or more?\n",
    "high_budget = df[df['Budget'] >= 25]\n",
    "high_budget['Month'].value_counts().sort_values(ascending=False)"
   ]
  },
  {
   "cell_type": "code",
   "execution_count": 15,
   "id": "c3b72a2f",
   "metadata": {},
   "outputs": [
    {
     "data": {
      "text/html": [
       "<div>\n",
       "<style scoped>\n",
       "    .dataframe tbody tr th:only-of-type {\n",
       "        vertical-align: middle;\n",
       "    }\n",
       "\n",
       "    .dataframe tbody tr th {\n",
       "        vertical-align: top;\n",
       "    }\n",
       "\n",
       "    .dataframe thead th {\n",
       "        text-align: right;\n",
       "    }\n",
       "</style>\n",
       "<table border=\"1\" class=\"dataframe\">\n",
       "  <thead>\n",
       "    <tr style=\"text-align: right;\">\n",
       "      <th></th>\n",
       "      <th>MovieName</th>\n",
       "      <th>ROI</th>\n",
       "    </tr>\n",
       "  </thead>\n",
       "  <tbody>\n",
       "    <tr>\n",
       "      <th>64</th>\n",
       "      <td>Aashiqui 2</td>\n",
       "      <td>8.166667</td>\n",
       "    </tr>\n",
       "    <tr>\n",
       "      <th>89</th>\n",
       "      <td>PK</td>\n",
       "      <td>7.647059</td>\n",
       "    </tr>\n",
       "    <tr>\n",
       "      <th>132</th>\n",
       "      <td>Grand Masti</td>\n",
       "      <td>7.514286</td>\n",
       "    </tr>\n",
       "    <tr>\n",
       "      <th>135</th>\n",
       "      <td>The Lunchbox</td>\n",
       "      <td>7.500000</td>\n",
       "    </tr>\n",
       "    <tr>\n",
       "      <th>87</th>\n",
       "      <td>Fukrey</td>\n",
       "      <td>6.240000</td>\n",
       "    </tr>\n",
       "    <tr>\n",
       "      <th>58</th>\n",
       "      <td>Mary Kom</td>\n",
       "      <td>5.933333</td>\n",
       "    </tr>\n",
       "    <tr>\n",
       "      <th>128</th>\n",
       "      <td>Shahid</td>\n",
       "      <td>5.666667</td>\n",
       "    </tr>\n",
       "    <tr>\n",
       "      <th>37</th>\n",
       "      <td>Humpty Sharma Ki Dulhania</td>\n",
       "      <td>5.500000</td>\n",
       "    </tr>\n",
       "    <tr>\n",
       "      <th>101</th>\n",
       "      <td>Bhaag Milkha Bhaag</td>\n",
       "      <td>4.466667</td>\n",
       "    </tr>\n",
       "    <tr>\n",
       "      <th>115</th>\n",
       "      <td>Chennai Express</td>\n",
       "      <td>4.266667</td>\n",
       "    </tr>\n",
       "  </tbody>\n",
       "</table>\n",
       "</div>"
      ],
      "text/plain": [
       "                     MovieName       ROI\n",
       "64                  Aashiqui 2  8.166667\n",
       "89                          PK  7.647059\n",
       "132                Grand Masti  7.514286\n",
       "135               The Lunchbox  7.500000\n",
       "87                      Fukrey  6.240000\n",
       "58                    Mary Kom  5.933333\n",
       "128                     Shahid  5.666667\n",
       "37   Humpty Sharma Ki Dulhania  5.500000\n",
       "101         Bhaag Milkha Bhaag  4.466667\n",
       "115            Chennai Express  4.266667"
      ]
     },
     "execution_count": 15,
     "metadata": {},
     "output_type": "execute_result"
    }
   ],
   "source": [
    "#7. Which are the top 10 movies with maximum return on investment (ROI)? Calculate return on investment (ROI) as (BoxOfficeCollection – Budget) / Budget.\n",
    "df['ROI'] = (df['BoxOfficeCollection'] - df['Budget']) / df['Budget']\n",
    "df[['MovieName', 'ROI']].sort_values(by='ROI', ascending=False).head(10)"
   ]
  },
  {
   "cell_type": "code",
   "execution_count": 16,
   "id": "40eefec1",
   "metadata": {},
   "outputs": [
    {
     "data": {
      "text/plain": [
       "ReleaseTime\n",
       "FS    0.973853\n",
       "HS    0.850867\n",
       "LW    1.127205\n",
       "N     0.657722\n",
       "Name: ROI, dtype: float64"
      ]
     },
     "execution_count": 16,
     "metadata": {},
     "output_type": "execute_result"
    }
   ],
   "source": [
    "#8. Do the movies have higher ROI if they get released on festive seasons or long weekend? Calculate the average ROI for different release times. \n",
    "df.groupby('ReleaseTime')['ROI'].mean()"
   ]
  },
  {
   "cell_type": "code",
   "execution_count": 17,
   "id": "c3b28486",
   "metadata": {},
   "outputs": [
    {
     "name": "stdout",
     "output_type": "stream",
     "text": [
      "Correlation: 0.6825165877731297\n"
     ]
    }
   ],
   "source": [
    "#9. Is there a correlation between box office collection and YouTube likes? Is the correlation positive or negative? \n",
    "corr = df['BoxOfficeCollection'].corr(df['YoutubeLikes'])\n",
    "print(\"Correlation:\", corr)"
   ]
  },
  {
   "cell_type": "code",
   "execution_count": 18,
   "id": "bb4ece9d",
   "metadata": {},
   "outputs": [
    {
     "data": {
      "image/png": "[encoded data removed]",
      "text/plain": [
       "<Figure size 720x432 with 1 Axes>"
      ]
     },
     "metadata": {
      "needs_background": "light"
     },
     "output_type": "display_data"
    }
   ],
   "source": [
    "#10. Which genre of movies typically sees more YouTube likes? Draw boxplots for each genre of movies to compare. \n",
    "plt.figure(figsize=(10,6))\n",
    "sns.boxplot(x='Genre', y='YoutubeLikes', data=df)\n",
    "plt.xticks(rotation=45)\n",
    "plt.title('YouTube Likes by Genre')\n",
    "plt.show()"
   ]
  },
  {
   "cell_type": "code",
   "execution_count": 19,
   "id": "d9d2eaaf",
   "metadata": {},
   "outputs": [
    {
     "data": {
      "image/png": "[encoded data removed]",
      "text/plain": [
       "<Figure size 432x288 with 2 Axes>"
      ]
     },
     "metadata": {
      "needs_background": "light"
     },
     "output_type": "display_data"
    }
   ],
   "source": [
    "#11. Which of the variables among Budget, BoxOfficeCollection, YoutubeView, YoutubeLikes, YoutubeDislikes are highly correlated? Note: Draw pair plot or heatmap. \n",
    "corr = df[['Budget', 'BoxOfficeCollection', 'YoutubeViews', 'YoutubeLikes', 'YoutubeDislikes']].corr()\n",
    "sns.heatmap(corr, annot=True, cmap='coolwarm')\n",
    "plt.title('Correlation Heatmap')\n",
    "plt.show()"
   ]
  },
  {
   "cell_type": "code",
   "execution_count": 23,
   "id": "015d180e",
   "metadata": {},
   "outputs": [
    {
     "data": {
      "image/png": "[encoded data removed]",
      "text/plain": [
       "<Figure size 720x432 with 1 Axes>"
      ]
     },
     "metadata": {
      "needs_background": "light"
     },
     "output_type": "display_data"
    }
   ],
   "source": [
    "#12. During 2013−2015 period, highlight the genre of movies and their box office collection? Visualize with best fit graph.\n",
    "plt.figure(figsize=(10,6))\n",
    "sns.boxplot(x='Genre', y='BoxOfficeCollection', data=df)\n",
    "plt.xticks(rotation=45)\n",
    "plt.title('Box Office Collection by Genre')\n",
    "plt.show()"
   ]
  },
  {
   "cell_type": "code",
   "execution_count": 24,
   "id": "9c6549e1",
   "metadata": {},
   "outputs": [
    {
     "data": {
      "image/png": "[encoded data removed]",
      "text/plain": [
       "<Figure size 720x432 with 1 Axes>"
      ]
     },
     "metadata": {
      "needs_background": "light"
     },
     "output_type": "display_data"
    }
   ],
   "source": [
    "#13. Visualize  the Budget and Box office collection based on Genre. \n",
    "plt.figure(figsize=(10,6))\n",
    "sns.scatterplot(x='Budget', y='BoxOfficeCollection', hue='Genre', data=df)\n",
    "plt.title('Budget vs Box Office Collection by Genre')\n",
    "plt.show()\n"
   ]
  },
  {
   "cell_type": "code",
   "execution_count": 25,
   "id": "23892a05",
   "metadata": {},
   "outputs": [
    {
     "data": {
      "image/png": "[encoded data removed]",
      "text/plain": [
       "<Figure size 720x432 with 1 Axes>"
      ]
     },
     "metadata": {
      "needs_background": "light"
     },
     "output_type": "display_data"
    }
   ],
   "source": [
    "#14. Find the distribution of movie budget for every Genre. \n",
    "plt.figure(figsize=(10,6))\n",
    "sns.boxplot(x='Genre', y='Budget', data=df)\n",
    "plt.xticks(rotation=45)\n",
    "plt.title('Budget Distribution by Genre')\n",
    "plt.show()\n"
   ]
  },
  {
   "cell_type": "code",
   "execution_count": 26,
   "id": "01b6a777",
   "metadata": {},
   "outputs": [
    {
     "data": {
      "image/png": "[encoded data removed]",
      "text/plain": [
       "<Figure size 432x288 with 1 Axes>"
      ]
     },
     "metadata": {
      "needs_background": "light"
     },
     "output_type": "display_data"
    }
   ],
   "source": [
    "#15. During 2013−2015, find the number of movies released in every year. Also, visualize with best fit graph.\n",
    "df['Release Date'] = pd.to_datetime(df['Release Date'], format='%d-%m-%Y')\n",
    "df['Year'] = df['Release Date'].dt.year\n",
    "year_counts = df['Year'].value_counts().sort_index()\n",
    "\n",
    "plt.plot(year_counts.index.to_numpy(), year_counts.values, marker='o')\n",
    "plt.title('Number of Movies Released (2013–2015)')\n",
    "plt.xlabel('Year')\n",
    "plt.ylabel('Number of Movies')\n",
    "plt.show()"
   ]
  }
 ],
 "metadata": {
  "kernelspec": {
   "display_name": "Python 3 (ipykernel)",
   "language": "python",
   "name": "python3"
  },
  "language_info": {
   "codemirror_mode": {
    "name": "ipython",
    "version": 3
   },
   "file_extension": ".py",
   "mimetype": "text/x-python",
   "name": "python",
   "nbconvert_exporter": "python",
   "pygments_lexer": "ipython3",
   "version": "3.9.12"
  }
 },
 "nbformat": 4,
 "nbformat_minor": 5
}
